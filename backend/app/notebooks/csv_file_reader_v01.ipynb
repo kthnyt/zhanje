{
 "cells": [
  {
   "cell_type": "code",
   "execution_count": 1,
   "id": "27360941-042f-4eb8-8110-0c27842c3196",
   "metadata": {},
   "outputs": [],
   "source": [
    "import os\n",
    "from app.api import deps\n",
    "from app.models.file import File"
   ]
  },
  {
   "cell_type": "code",
   "execution_count": 2,
   "id": "13a770eb-9776-430a-98f4-c5dbf7b30f42",
   "metadata": {},
   "outputs": [
    {
     "data": {
      "text/plain": [
       "['Order Summary ? (2020-05-01 - 2021-07-31).csv']"
      ]
     },
     "execution_count": 2,
     "metadata": {},
     "output_type": "execute_result"
    }
   ],
   "source": [
    "path = '../app/files/food_service_orders/incoming/'\n",
    "os.listdir(path)"
   ]
  },
  {
   "cell_type": "code",
   "execution_count": 3,
   "id": "d8cd9329-7139-4d96-acff-6dd2d3da4561",
   "metadata": {},
   "outputs": [],
   "source": [
    "file = File(name='Order Summary ? (2020-05-01 - 2021-07-31)', ext='csv',  source='MrDFood')"
   ]
  },
  {
   "cell_type": "code",
   "execution_count": 4,
   "id": "8236bfd3-9888-44ad-a689-4a8d07e74a93",
   "metadata": {},
   "outputs": [
    {
     "data": {
      "text/plain": [
       "<sqlalchemy.orm.session.Session at 0x7f10cdfcc590>"
      ]
     },
     "execution_count": 4,
     "metadata": {},
     "output_type": "execute_result"
    }
   ],
   "source": [
    "db = next(deps.get_db())\n",
    "db"
   ]
  },
  {
   "cell_type": "code",
   "execution_count": 5,
   "id": "6151d160-376d-4e3b-8565-adcba9abea83",
   "metadata": {},
   "outputs": [],
   "source": [
    "db.add(file)\n",
    "db.commit()"
   ]
  },
  {
   "cell_type": "code",
   "execution_count": 10,
   "id": "28dec720-b72b-4faf-97ef-faff3314dc07",
   "metadata": {},
   "outputs": [
    {
     "data": {
      "text/plain": [
       "'Order Summary ? (2020-05-01 - 2021-07-31)'"
      ]
     },
     "execution_count": 10,
     "metadata": {},
     "output_type": "execute_result"
    }
   ],
   "source": [
    "file.name"
   ]
  },
  {
   "cell_type": "code",
   "execution_count": 9,
   "id": "38656711-2b18-4a20-badc-62766268fe3f",
   "metadata": {},
   "outputs": [],
   "source": [
    "db.refresh(file)"
   ]
  },
  {
   "cell_type": "code",
   "execution_count": null,
   "id": "9c58eab2-7952-4985-b770-64559c98ea2f",
   "metadata": {},
   "outputs": [],
   "source": []
  }
 ],
 "metadata": {
  "kernelspec": {
   "display_name": "Python 3 (ipykernel)",
   "language": "python",
   "name": "python3"
  },
  "language_info": {
   "codemirror_mode": {
    "name": "ipython",
    "version": 3
   },
   "file_extension": ".py",
   "mimetype": "text/x-python",
   "name": "python",
   "nbconvert_exporter": "python",
   "pygments_lexer": "ipython3",
   "version": "3.7.9"
  }
 },
 "nbformat": 4,
 "nbformat_minor": 5
}
