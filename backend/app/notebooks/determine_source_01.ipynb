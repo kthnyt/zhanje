{
 "cells": [
  {
   "cell_type": "code",
   "execution_count": 5,
   "id": "2aff2347-daba-4627-99cd-52518b443240",
   "metadata": {},
   "outputs": [],
   "source": [
    "from app.models.file import File"
   ]
  },
  {
   "cell_type": "code",
   "execution_count": 6,
   "id": "23ab817c-5d09-417a-a3f1-e856139a93f1",
   "metadata": {},
   "outputs": [],
   "source": [
    "filename = 'Order Summary ? (2020-05-01 - 2021-07-31)'"
   ]
  },
  {
   "cell_type": "code",
   "execution_count": 7,
   "id": "38750664-1f74-4b84-9711-c668ead11e50",
   "metadata": {},
   "outputs": [],
   "source": [
    "source = File.determined_source(name=filename)"
   ]
  },
  {
   "cell_type": "code",
   "execution_count": 8,
   "id": "21fe40a3-3d34-4b42-90b7-93ae9f2ee28c",
   "metadata": {},
   "outputs": [
    {
     "data": {
      "text/plain": [
       "'MrDFood'"
      ]
     },
     "execution_count": 8,
     "metadata": {},
     "output_type": "execute_result"
    }
   ],
   "source": [
    "source"
   ]
  },
  {
   "cell_type": "code",
   "execution_count": null,
   "id": "532d326e-575c-4b2d-b473-640aa08a325d",
   "metadata": {},
   "outputs": [],
   "source": []
  }
 ],
 "metadata": {
  "kernelspec": {
   "display_name": "Python 3 (ipykernel)",
   "language": "python",
   "name": "python3"
  },
  "language_info": {
   "codemirror_mode": {
    "name": "ipython",
    "version": 3
   },
   "file_extension": ".py",
   "mimetype": "text/x-python",
   "name": "python",
   "nbconvert_exporter": "python",
   "pygments_lexer": "ipython3",
   "version": "3.7.9"
  }
 },
 "nbformat": 4,
 "nbformat_minor": 5
}
