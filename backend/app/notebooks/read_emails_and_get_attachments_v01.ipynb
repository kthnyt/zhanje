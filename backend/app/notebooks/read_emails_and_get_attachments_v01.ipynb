{
 "cells": [
  {
   "cell_type": "code",
   "execution_count": 9,
   "id": "92f48291-1d11-498f-918a-8f0786aba40b",
   "metadata": {},
   "outputs": [],
   "source": [
    "import imaplib \n",
    "import email \n",
    "import os\n",
    "\n",
    "from app.core.config import settings"
   ]
  },
  {
   "cell_type": "code",
   "execution_count": 36,
   "id": "cf7c76be-6d85-47e7-86cd-bc1e1538ada6",
   "metadata": {},
   "outputs": [
    {
     "data": {
      "text/plain": [
       "('OK', [b'7'])"
      ]
     },
     "execution_count": 36,
     "metadata": {},
     "output_type": "execute_result"
    }
   ],
   "source": [
    "email_user = settings.IMAP_USER\n",
    "email_pass = settings.IMAP_PASSWORD\n",
    "\n",
    "mail = imaplib.IMAP4_SSL(settings.IMAP_HOST, settings.IMAP_PORT)\n",
    "mail.login(email_user, email_pass)\n",
    "\n",
    "svdir = '../app/files/' \n",
    "\n",
    "mail.select(\"Inbox\") "
   ]
  },
  {
   "cell_type": "code",
   "execution_count": 37,
   "id": "653dbdc9-9812-4c34-ae7b-ea6b33b44393",
   "metadata": {},
   "outputs": [],
   "source": [
    "typ, msgs = mail.search(None, '(SUBJECT \"CSVFILE\")')"
   ]
  },
  {
   "cell_type": "code",
   "execution_count": 38,
   "id": "c2cd7dff-5bab-4f1c-826e-eaace444f6db",
   "metadata": {},
   "outputs": [
    {
     "data": {
      "text/plain": [
       "[b'7']"
      ]
     },
     "execution_count": 38,
     "metadata": {},
     "output_type": "execute_result"
    }
   ],
   "source": [
    "msgs = msgs[0].split()\n",
    "msgs"
   ]
  },
  {
   "cell_type": "code",
   "execution_count": 39,
   "id": "85968128-ebe3-4db8-bad5-f2d31916383b",
   "metadata": {},
   "outputs": [],
   "source": [
    "emailid = msgs[0]"
   ]
  },
  {
   "cell_type": "code",
   "execution_count": 40,
   "id": "81d5ea57-7260-4398-a1c8-d45b517ce9ae",
   "metadata": {},
   "outputs": [],
   "source": [
    "resp, data = mail.fetch(emailid, \"(UID BODY[TEXT])\") \n",
    "resp, data = mail.fetch(emailid, \"(RFC822)\") "
   ]
  },
  {
   "cell_type": "code",
   "execution_count": 41,
   "id": "7f35b717-760d-4de9-9cee-a58d05a71512",
   "metadata": {},
   "outputs": [],
   "source": [
    "raw_email = data[0][1]\n",
    "\n",
    "# converts byte literal to string removing b''\n",
    "raw_email_string = raw_email.decode('utf-8')\n",
    "email_message = email.message_from_string(raw_email_string)"
   ]
  },
  {
   "cell_type": "code",
   "execution_count": 42,
   "id": "61548048-e7ee-4c2d-a874-d18f39b6c6f9",
   "metadata": {},
   "outputs": [
    {
     "name": "stdout",
     "output_type": "stream",
     "text": [
      "0\n",
      "1\n",
      "2\n",
      "3\n",
      "4\n"
     ]
    }
   ],
   "source": [
    "# downloading attachments\n",
    "for i, part in enumerate(email_message.walk()):\n",
    "    print(i)"
   ]
  },
  {
   "cell_type": "code",
   "execution_count": 43,
   "id": "004215e7-b66b-4053-a22b-1f8eaf8ddb20",
   "metadata": {},
   "outputs": [
    {
     "name": "stdout",
     "output_type": "stream",
     "text": [
      "../app/files/test_123.csv\n"
     ]
    }
   ],
   "source": [
    "# downloading attachments\n",
    "for part in email_message.walk():\n",
    "    # this part comes from the snipped I don't understand yet...\n",
    "    if part.get_content_maintype() == 'multipart':\n",
    "        continue\n",
    "        \n",
    "    if part.get('Content-Disposition') is None:\n",
    "        continue\n",
    "    \n",
    "    filename=part.get_filename()\n",
    "    if filename is not None:\n",
    "        sv_path = os.path.join(svdir, filename)\n",
    "        if not os.path.isfile(sv_path):\n",
    "            print(sv_path)\n",
    "            fp = open(sv_path, 'wb')\n",
    "            fp.write(part.get_payload(decode=True))\n",
    "            fp.close()"
   ]
  },
  {
   "cell_type": "code",
   "execution_count": null,
   "id": "c264e4b3-afc7-4753-a548-c431829c3bef",
   "metadata": {},
   "outputs": [],
   "source": [
    "# class ReadEmail:\n",
    "#     \"\"\"Use imap protocol to read emails and download attachments\"\"\"\n",
    "\n",
    "#     def __init__(self, var):\n",
    "#         self._var = var\n",
    "\n",
    "#     @staticmethod\n",
    "\n",
    "def get_attachments():\n",
    "\n",
    "    email_user = settings.IMAP_USER\n",
    "    email_pass = settings.IMAP_PASSWORD\n",
    "\n",
    "    mail = imaplib.IMAP4_SSL(settings.IMAP_HOST, settings.IMAP_PORT)\n",
    "    mail.login(email_user, email_pass)\n",
    "\n",
    "    svdir = '../app/files/' \n",
    "\n",
    "    mail.select(\"inbox\") \n",
    "\n",
    "    typ, msgs = mail.search(None, '(SUBJECT \"insert subject here\")')\n",
    "    msgs = msgs[0].split() \n",
    "\n",
    "    for emailid in msgs: \n",
    "        resp, data = mail.fetch(emailid, \"(insert your data here)\") \n",
    "        email_body = data[0][1]  \n",
    "        m = email.message_from_string(email_body) \n",
    "\n",
    "\n",
    "        if m.get_content_maintype() != 'multipart': \n",
    "        continue \n",
    "\n",
    "        for part in m.walk(): \n",
    "            if part.get_content_maintype() == 'multipart': \n",
    "                continue \n",
    "            if part.get('Content-Disposition') is None: \n",
    "                continue \n",
    "\n",
    "            filename=part.get_filename() \n",
    "            if filename is not None: \n",
    "                sv_path = os.path.join(svdir, filename) \n",
    "                if not os.path.isfile(sv_path): \n",
    "                    print sv_path        \n",
    "                    fp = open(sv_path, 'wb') \n",
    "                    fp.write(part.get_payload(decode=True)) \n",
    "                    fp.close() "
   ]
  }
 ],
 "metadata": {
  "kernelspec": {
   "display_name": "Python 3 (ipykernel)",
   "language": "python",
   "name": "python3"
  },
  "language_info": {
   "codemirror_mode": {
    "name": "ipython",
    "version": 3
   },
   "file_extension": ".py",
   "mimetype": "text/x-python",
   "name": "python",
   "nbconvert_exporter": "python",
   "pygments_lexer": "ipython3",
   "version": "3.7.9"
  }
 },
 "nbformat": 4,
 "nbformat_minor": 5
}
