{
 "cells": [
  {
   "cell_type": "code",
   "execution_count": 1,
   "id": "92f48291-1d11-498f-918a-8f0786aba40b",
   "metadata": {},
   "outputs": [],
   "source": [
    "import logging\n",
    "import imaplib \n",
    "import email\n",
    "import json\n",
    "from tqdm import tqdm\n",
    "import os\n",
    "\n",
    "from app.core.config import settings"
   ]
  },
  {
   "cell_type": "code",
   "execution_count": 11,
   "id": "cf7c76be-6d85-47e7-86cd-bc1e1538ada6",
   "metadata": {
    "tags": []
   },
   "outputs": [
    {
     "name": "stderr",
     "output_type": "stream",
     "text": [
      "100%|████████████████████████████████████████████████████████████████████████████████████████████████████████████████████████████████████████████████████████████████████████████████████████████| 6/6 [00:01<00:00,  3.49it/s]\n"
     ]
    },
    {
     "data": {
      "text/plain": [
       "'{\"1\": {\"message\": \"File test_123.csv already exists.\"}, \"2\": {\"message\": \"File food456.csv already exists.\"}, \"3\": {\"message\": \"File food789.ods not downloaded. File extension not \\'csv\\'.\"}, \"4\": {\"message\": \"File food789.ods not downloaded. File extension not \\'csv\\'.\"}, \"5\": {\"message\": \"File testABC.csv already exists.\"}}'"
      ]
     },
     "execution_count": 11,
     "metadata": {},
     "output_type": "execute_result"
    }
   ],
   "source": [
    "save_dir: str = '/app/app/files/food_service_orders/'\n",
    "email_label: str = 'Inbox'\n",
    "search_string: str = 'ALL'\n",
    "\n",
    "email_user = settings.IMAP_USER\n",
    "email_pass = settings.IMAP_PASSWORD\n",
    "\n",
    "mail = imaplib.IMAP4_SSL(settings.IMAP_HOST, settings.IMAP_PORT)\n",
    "mail.login(email_user, email_pass)\n",
    "\n",
    "mail.select(email_label)\n",
    "\n",
    "# search for emails by subject\n",
    "response_type, data = mail.search(None, search_string)\n",
    "mail_ids = data[0].split()\n",
    "\n",
    "# assert response_type == 'OK'\n",
    "if response_type == 'OK':\n",
    "    # init\n",
    "    messages = dict()\n",
    "    attachment_number = 0\n",
    "    filename = None\n",
    "\n",
    "    for mail_id in tqdm(mail_ids):\n",
    "\n",
    "        # fetch email data for selected email\n",
    "        typ, data = mail.fetch(mail_id, '(RFC822)')\n",
    "        raw_email = data[0][1]\n",
    "\n",
    "        # converts byte literal to string removing b''\n",
    "        raw_email_string = raw_email.decode('utf-8')\n",
    "        email_message = email.message_from_string(raw_email_string)\n",
    "\n",
    "\n",
    "        # downloading attachments\n",
    "        for i, part in enumerate(email_message.walk()):\n",
    "\n",
    "            if part.get_content_maintype() == 'multipart':\n",
    "                continue\n",
    "            if part.get('Content-Disposition') is None:\n",
    "                continue\n",
    "\n",
    "            filename = part.get_filename()\n",
    "\n",
    "            if filename is not None:\n",
    "                attachment_number += 1\n",
    "                file_ext = filename.split('.')[-1]\n",
    "                if file_ext == 'csv':\n",
    "                    # TODO use uuid from db table to save filename, for security!\n",
    "                    save_path = os.path.join(save_dir, filename)\n",
    "                    if not os.path.isfile(save_path):\n",
    "                        # TODO check that file is actually a CSV, use csv.Sniffer\n",
    "                        try:\n",
    "                            fp = open(save_path, 'wb')\n",
    "                            fp.write(part.get_payload(decode=True))\n",
    "                            fp.close()\n",
    "                            message = f'Saved: {filename}'\n",
    "                        except Exception as e:\n",
    "                            message = f'Error saving attachment {filename}: {e}'\n",
    "                    else:\n",
    "                        message = f'File {filename} already exists.'\n",
    "                else:\n",
    "                    message = f\"File {filename} not downloaded. File extension not 'csv'.\"\n",
    "            else:\n",
    "                message = None\n",
    "\n",
    "            messages.update({attachment_number: {\"message\": message}})\n",
    "else:\n",
    "    messages.update({\"ERROR\": {\"message\": \"response_type != 'OK'\"}})\n",
    "\n",
    "json.dumps(messages)"
   ]
  },
  {
   "cell_type": "code",
   "execution_count": null,
   "id": "ffa2214e-1925-4f20-aa73-8f71aeefab64",
   "metadata": {},
   "outputs": [],
   "source": []
  }
 ],
 "metadata": {
  "kernelspec": {
   "display_name": "Python 3 (ipykernel)",
   "language": "python",
   "name": "python3"
  },
  "language_info": {
   "codemirror_mode": {
    "name": "ipython",
    "version": 3
   },
   "file_extension": ".py",
   "mimetype": "text/x-python",
   "name": "python",
   "nbconvert_exporter": "python",
   "pygments_lexer": "ipython3",
   "version": "3.7.9"
  }
 },
 "nbformat": 4,
 "nbformat_minor": 5
}
